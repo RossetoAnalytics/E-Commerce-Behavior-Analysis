{
  "nbformat": 4,
  "nbformat_minor": 0,
  "metadata": {
    "colab": {
      "provenance": []
    },
    "kernelspec": {
      "name": "python3",
      "display_name": "Python 3"
    },
    "language_info": {
      "name": "python"
    }
  },
  "cells": [
    {
      "cell_type": "markdown",
      "source": [
        "#E-Commerce Customer Behavior\n",
        "\n",
        "Your Project Manager asked you to analyze the Customer Behavior Dataset to understand more about the profiles that has a larger Total Spend. He suspects the product is not evenly distributed between Male and Female users.\n",
        "\n",
        "This dataset is from Kaggle, and this is the link: https://www.kaggle.com/code/uom190346a/customer-behavior-analysis/input"
      ],
      "metadata": {
        "id": "89tyUm7gyyEA"
      }
    },
    {
      "cell_type": "markdown",
      "source": [
        "# Library Importation"
      ],
      "metadata": {
        "id": "jIe9nDbmot-s"
      }
    },
    {
      "cell_type": "code",
      "execution_count": 24,
      "metadata": {
        "id": "gLRdQS2FFl7E"
      },
      "outputs": [],
      "source": [
        "# Import relevant libraries\n",
        "\n",
        "import pandas as pd\n",
        "from scipy import stats\n",
        "import matplotlib.pyplot as plt\n",
        "import seaborn as sns\n",
        "\n",
        "# Assigning to a variable\n",
        "\n",
        "df = pd.read_csv('/content/E-commerce Customer Behavior - Sheet1.csv')"
      ]
    },
    {
      "cell_type": "markdown",
      "source": [
        "# Data Exploration"
      ],
      "metadata": {
        "id": "2Xr_V_W9oyHu"
      }
    },
    {
      "cell_type": "markdown",
      "source": [
        "Exploratory Data Analysis (EDA) is a crucial step in the data analysis process, involving the examination and visualization of data to understand its main characteristics."
      ],
      "metadata": {
        "id": "AADTCUoZ1i6J"
      }
    },
    {
      "cell_type": "code",
      "source": [
        "# Displaying the first few rows of the dataset\n",
        "print(df.head())\n",
        "\n",
        "# Getting basic statistics of the dataset\n",
        "print(df.describe())\n",
        "\n",
        "# Checking data types and missing values\n",
        "print(df.info())"
      ],
      "metadata": {
        "colab": {
          "base_uri": "https://localhost:8080/"
        },
        "id": "JlI9KPcfF6O1",
        "outputId": "d80fea88-6b02-4c1a-9e16-6394ca0905a4"
      },
      "execution_count": 25,
      "outputs": [
        {
          "output_type": "stream",
          "name": "stdout",
          "text": [
            "   Customer ID  Gender  Age           City Membership Type  Total Spend  \\\n",
            "0          101  Female   29       New York            Gold      1120.20   \n",
            "1          102    Male   34    Los Angeles          Silver       780.50   \n",
            "2          103  Female   43        Chicago          Bronze       510.75   \n",
            "3          104    Male   30  San Francisco            Gold      1480.30   \n",
            "4          105    Male   27          Miami          Silver       720.40   \n",
            "\n",
            "   Items Purchased  Average Rating  Discount Applied  \\\n",
            "0               14             4.6              True   \n",
            "1               11             4.1             False   \n",
            "2                9             3.4              True   \n",
            "3               19             4.7             False   \n",
            "4               13             4.0              True   \n",
            "\n",
            "   Days Since Last Purchase Satisfaction Level  \n",
            "0                        25          Satisfied  \n",
            "1                        18            Neutral  \n",
            "2                        42        Unsatisfied  \n",
            "3                        12          Satisfied  \n",
            "4                        55        Unsatisfied  \n",
            "       Customer ID         Age  Total Spend  Items Purchased  Average Rating  \\\n",
            "count   350.000000  350.000000   350.000000       350.000000      350.000000   \n",
            "mean    275.500000   33.597143   845.381714        12.600000        4.019143   \n",
            "std     101.180532    4.870882   362.058695         4.155984        0.580539   \n",
            "min     101.000000   26.000000   410.800000         7.000000        3.000000   \n",
            "25%     188.250000   30.000000   502.000000         9.000000        3.500000   \n",
            "50%     275.500000   32.500000   775.200000        12.000000        4.100000   \n",
            "75%     362.750000   37.000000  1160.600000        15.000000        4.500000   \n",
            "max     450.000000   43.000000  1520.100000        21.000000        4.900000   \n",
            "\n",
            "       Days Since Last Purchase  \n",
            "count                350.000000  \n",
            "mean                  26.588571  \n",
            "std                   13.440813  \n",
            "min                    9.000000  \n",
            "25%                   15.000000  \n",
            "50%                   23.000000  \n",
            "75%                   38.000000  \n",
            "max                   63.000000  \n",
            "<class 'pandas.core.frame.DataFrame'>\n",
            "RangeIndex: 350 entries, 0 to 349\n",
            "Data columns (total 11 columns):\n",
            " #   Column                    Non-Null Count  Dtype  \n",
            "---  ------                    --------------  -----  \n",
            " 0   Customer ID               350 non-null    int64  \n",
            " 1   Gender                    350 non-null    object \n",
            " 2   Age                       350 non-null    int64  \n",
            " 3   City                      350 non-null    object \n",
            " 4   Membership Type           350 non-null    object \n",
            " 5   Total Spend               350 non-null    float64\n",
            " 6   Items Purchased           350 non-null    int64  \n",
            " 7   Average Rating            350 non-null    float64\n",
            " 8   Discount Applied          350 non-null    bool   \n",
            " 9   Days Since Last Purchase  350 non-null    int64  \n",
            " 10  Satisfaction Level        348 non-null    object \n",
            "dtypes: bool(1), float64(2), int64(4), object(4)\n",
            "memory usage: 27.8+ KB\n",
            "None\n"
          ]
        }
      ]
    },
    {
      "cell_type": "code",
      "source": [
        "#Checking Gender Distribution\n",
        "\n",
        "df['Gender'].hist(bins=20)\n",
        "plt.title('Gender Distribution')\n",
        "plt.xlabel('Gender')\n",
        "plt.ylabel('Frequency')\n",
        "plt.show()"
      ],
      "metadata": {
        "colab": {
          "base_uri": "https://localhost:8080/",
          "height": 472
        },
        "id": "f_6boHkfm7nP",
        "outputId": "0aa15b5c-e19a-464d-c509-380a43633cb6"
      },
      "execution_count": 26,
      "outputs": [
        {
          "output_type": "display_data",
          "data": {
            "text/plain": [
              "<Figure size 640x480 with 1 Axes>"
            ],
            "image/png": "[encoded data removed]"
          },
          "metadata": {}
        }
      ]
    },
    {
      "cell_type": "markdown",
      "source": [
        "The frequency distribution for each gender is the same. Now lets checkout the Total Spend By Gender."
      ],
      "metadata": {
        "id": "vj1xYTd_rJ_1"
      }
    },
    {
      "cell_type": "code",
      "source": [
        "sns.boxplot(x='Gender', y='Total Spend', data=df)\n",
        "plt.title('Total Spend By Gender')\n",
        "plt.show()"
      ],
      "metadata": {
        "colab": {
          "base_uri": "https://localhost:8080/",
          "height": 472
        },
        "id": "-Ehitik6oV76",
        "outputId": "47c27e22-13ea-44b2-b8b2-c0300b979ead"
      },
      "execution_count": 27,
      "outputs": [
        {
          "output_type": "display_data",
          "data": {
            "text/plain": [
              "<Figure size 640x480 with 1 Axes>"
            ],
            "image/png": "[encoded data removed]"
          },
          "metadata": {}
        }
      ]
    },
    {
      "cell_type": "markdown",
      "source": [
        "**It seems that Male Users spend more on the Business. But, we should do a ``Hypothesis Test`` to make sure this difference is ``statistically significant``.**"
      ],
      "metadata": {
        "id": "7g7wWhwPyFnS"
      }
    },
    {
      "cell_type": "markdown",
      "source": [
        "# Hypothesis Testing"
      ],
      "metadata": {
        "id": "K25inpVRjaSG"
      }
    },
    {
      "cell_type": "markdown",
      "source": [
        "**Hypotheses:**\n",
        "\n",
        "$H_0$: There is no difference in average number of Total Spend between users who are Male and Users who are Female.\n",
        "\n",
        "$H_A$: There is a difference in average number of Total Spend between users who are Male and Users who are Female."
      ],
      "metadata": {
        "id": "Jy_N5aAdjfpq"
      }
    },
    {
      "cell_type": "markdown",
      "source": [
        "**In order to perform this analysis, you must turn each label into an integer so you can create a ``mapped column``**"
      ],
      "metadata": {
        "id": "kX-spjFNe6V7"
      }
    },
    {
      "cell_type": "code",
      "source": [
        "# 1. Create `map_dictionary`\n",
        "map_dictionary = {'Female': 2, 'Male': 1}\n",
        "\n",
        "# 2. Create new `device_type` column\n",
        "df['Gender_Int'] = df['Gender']\n",
        "\n",
        "# 3. Map the new column to the dictionary\n",
        "df['Gender_Int'] = df['Gender'].map(map_dictionary)\n",
        "\n",
        "df['Gender_Int'].head()"
      ],
      "metadata": {
        "colab": {
          "base_uri": "https://localhost:8080/"
        },
        "id": "EQ2Q2D6MeIHq",
        "outputId": "cc6b2607-bfbc-4d12-94b8-47ce1c7c72f1"
      },
      "execution_count": 28,
      "outputs": [
        {
          "output_type": "execute_result",
          "data": {
            "text/plain": [
              "0    2\n",
              "1    1\n",
              "2    2\n",
              "3    1\n",
              "4    1\n",
              "Name: Gender_Int, dtype: int64"
            ]
          },
          "metadata": {},
          "execution_count": 28
        }
      ]
    },
    {
      "cell_type": "markdown",
      "source": [
        "**Observation:** Although we could test the hypothesis with the columns having a space, lets change it and replace it with underscores. It is a ``good practice``."
      ],
      "metadata": {
        "id": "FRQjsIpliIuW"
      }
    },
    {
      "cell_type": "code",
      "source": [
        "df.columns = df.columns.str.replace(' ', '_')"
      ],
      "metadata": {
        "id": "7wHXwE7eh2xJ"
      },
      "execution_count": 29,
      "outputs": []
    },
    {
      "cell_type": "code",
      "source": [
        "# 1. Isolate the `Total_Spend` column for Male users.\n",
        "Male = df[df['Gender_Int'] == 1]['Total_Spend']\n",
        "\n",
        "# 2. Isolate the `Total_Spend` column for Female users.\n",
        "Female = df[df['Gender_Int'] == 2]['Total_Spend']"
      ],
      "metadata": {
        "id": "rGWsGFiAfhaK"
      },
      "execution_count": 30,
      "outputs": []
    },
    {
      "cell_type": "code",
      "source": [
        "# 3. Perform the t-test\n",
        "stats.ttest_ind(a=Male, b=Female, equal_var=False)"
      ],
      "metadata": {
        "colab": {
          "base_uri": "https://localhost:8080/"
        },
        "id": "18LMcv__ieV6",
        "outputId": "9bc5cc3e-e4c8-4349-ccfc-3cc8516302e0"
      },
      "execution_count": 31,
      "outputs": [
        {
          "output_type": "execute_result",
          "data": {
            "text/plain": [
              "TtestResult(statistic=7.937523297869168, pvalue=2.874754863403367e-14, df=347.45581810689544)"
            ]
          },
          "metadata": {},
          "execution_count": 31
        }
      ]
    },
    {
      "cell_type": "markdown",
      "source": [
        "* **P_Value = 2.874754863403367e-14 (A pretty small number)**\n",
        "---\n",
        "Since the p-value is smaller than the chosen significance level (5%), you reject the null hypothesis. You conclude that there is a statistically significant difference in the average number of ``Total Spend`` between users who are Male and Users who are Female."
      ],
      "metadata": {
        "id": "hyFy5Pinkukg"
      }
    },
    {
      "cell_type": "markdown",
      "source": [
        "# Insights"
      ],
      "metadata": {
        "id": "tFCahpSwpJML"
      }
    },
    {
      "cell_type": "markdown",
      "source": [
        "Our exploration told us that there is a difference between Male and Female Total Spend on the E-Commerce.\n",
        "\n",
        "One potential next step is to explore what other factors influence the variation in the Total Spend, and run additonal hypothesis tests to learn more about user behavior. Further, temporary changes in marketing or user interface for the E-Commerce app may provide more data to investigate the Revenue."
      ],
      "metadata": {
        "id": "8PUhQ-wO0_db"
      }
    }
  ]
}